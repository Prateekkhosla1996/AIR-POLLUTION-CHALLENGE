{
 "cells": [
  {
   "cell_type": "markdown",
   "metadata": {},
   "source": [
    "<H1 ALIGN=\"CENTER\">  Challenge - Air Pollution"
   ]
  },
  {
   "cell_type": "markdown",
   "metadata": {},
   "source": [
    "## Air Pollution is Rising!\n",
    "<p  style=\"font-size:20px\" align=\"center\">Predicting Pollution Levels using Machine Learning\n",
    "It is winter time in Delhi so Cody decided to go for a walk to the news stand and on reaching was surprised to see the air quality index of Delhi in the newspaper . So he decided to collect the air samples of different locations and then took these samples to his lab where he extracted five features of the air he collected which can be used to predict the air quality index and combined it with the air quality index given in the newspapers. You are provided with the data collected by Cody and your job is to design a machine learning model which given the features \n",
    "\n",
    "<img src=\"AIRPOLLUTION.jpg\" width=\"400\">\n",
    "extracted by Cody can predict air quality. </p>"
   ]
  },
  {
   "cell_type": "markdown",
   "metadata": {},
   "source": [
    "## IMPORTING LIABRARIES"
   ]
  },
  {
   "cell_type": "code",
   "execution_count": 10,
   "metadata": {},
   "outputs": [],
   "source": [
    "import pandas as pd\n",
    "import numpy as np\n",
    "import matplotlib.pyplot as plt"
   ]
  },
  {
   "cell_type": "markdown",
   "metadata": {},
   "source": [
    "## DATA PREPROCESSING"
   ]
  },
  {
   "cell_type": "code",
   "execution_count": 3,
   "metadata": {},
   "outputs": [
    {
     "name": "stdout",
     "output_type": "stream",
     "text": [
      "(1600, 5)\n",
      "(1600,)\n"
     ]
    }
   ],
   "source": [
    "train=pd.read_csv('airtrain.csv')\n",
    "z=np.array(train)\n",
    "xtrain=z[:,:-1]\n",
    "ytrain=z[:,5]\n",
    "print(xtrain.shape)\n",
    "print(ytrain.shape)"
   ]
  },
  {
   "cell_type": "code",
   "execution_count": 29,
   "metadata": {},
   "outputs": [
    {
     "data": {
      "text/html": [
       "<div>\n",
       "<style scoped>\n",
       "    .dataframe tbody tr th:only-of-type {\n",
       "        vertical-align: middle;\n",
       "    }\n",
       "\n",
       "    .dataframe tbody tr th {\n",
       "        vertical-align: top;\n",
       "    }\n",
       "\n",
       "    .dataframe thead th {\n",
       "        text-align: right;\n",
       "    }\n",
       "</style>\n",
       "<table border=\"1\" class=\"dataframe\">\n",
       "  <thead>\n",
       "    <tr style=\"text-align: right;\">\n",
       "      <th></th>\n",
       "      <th>feature_1</th>\n",
       "      <th>feature_2</th>\n",
       "      <th>feature_3</th>\n",
       "      <th>feature_4</th>\n",
       "      <th>feature_5</th>\n",
       "      <th>target</th>\n",
       "    </tr>\n",
       "  </thead>\n",
       "  <tbody>\n",
       "    <tr>\n",
       "      <th>0</th>\n",
       "      <td>0.293416</td>\n",
       "      <td>-0.945599</td>\n",
       "      <td>-0.421105</td>\n",
       "      <td>0.406816</td>\n",
       "      <td>0.525662</td>\n",
       "      <td>-82.154667</td>\n",
       "    </tr>\n",
       "    <tr>\n",
       "      <th>1</th>\n",
       "      <td>-0.836084</td>\n",
       "      <td>-0.189228</td>\n",
       "      <td>-0.776403</td>\n",
       "      <td>-1.053831</td>\n",
       "      <td>0.597997</td>\n",
       "      <td>-48.897960</td>\n",
       "    </tr>\n",
       "    <tr>\n",
       "      <th>2</th>\n",
       "      <td>0.236425</td>\n",
       "      <td>0.132836</td>\n",
       "      <td>-0.147723</td>\n",
       "      <td>0.699854</td>\n",
       "      <td>-0.187364</td>\n",
       "      <td>77.270371</td>\n",
       "    </tr>\n",
       "    <tr>\n",
       "      <th>3</th>\n",
       "      <td>0.175312</td>\n",
       "      <td>0.143194</td>\n",
       "      <td>-0.581111</td>\n",
       "      <td>-0.122107</td>\n",
       "      <td>-1.292168</td>\n",
       "      <td>-2.988581</td>\n",
       "    </tr>\n",
       "    <tr>\n",
       "      <th>4</th>\n",
       "      <td>-1.693011</td>\n",
       "      <td>0.542712</td>\n",
       "      <td>-2.798729</td>\n",
       "      <td>-0.686723</td>\n",
       "      <td>1.244077</td>\n",
       "      <td>-37.596722</td>\n",
       "    </tr>\n",
       "    <tr>\n",
       "      <th>5</th>\n",
       "      <td>-1.055329</td>\n",
       "      <td>-0.874807</td>\n",
       "      <td>0.580753</td>\n",
       "      <td>-0.773541</td>\n",
       "      <td>1.070888</td>\n",
       "      <td>-122.405263</td>\n",
       "    </tr>\n",
       "    <tr>\n",
       "      <th>6</th>\n",
       "      <td>-0.824707</td>\n",
       "      <td>0.499427</td>\n",
       "      <td>1.293281</td>\n",
       "      <td>-0.240671</td>\n",
       "      <td>-0.419136</td>\n",
       "      <td>1.413741</td>\n",
       "    </tr>\n",
       "    <tr>\n",
       "      <th>7</th>\n",
       "      <td>-1.936602</td>\n",
       "      <td>0.583708</td>\n",
       "      <td>-0.521135</td>\n",
       "      <td>-0.631724</td>\n",
       "      <td>-1.030729</td>\n",
       "      <td>-13.306543</td>\n",
       "    </tr>\n",
       "    <tr>\n",
       "      <th>8</th>\n",
       "      <td>0.647431</td>\n",
       "      <td>-0.265401</td>\n",
       "      <td>0.327080</td>\n",
       "      <td>0.457829</td>\n",
       "      <td>-1.757592</td>\n",
       "      <td>-25.754698</td>\n",
       "    </tr>\n",
       "    <tr>\n",
       "      <th>9</th>\n",
       "      <td>-1.133029</td>\n",
       "      <td>-0.839132</td>\n",
       "      <td>-0.547809</td>\n",
       "      <td>0.551768</td>\n",
       "      <td>-0.639173</td>\n",
       "      <td>-57.077754</td>\n",
       "    </tr>\n",
       "    <tr>\n",
       "      <th>10</th>\n",
       "      <td>-2.015734</td>\n",
       "      <td>0.102635</td>\n",
       "      <td>-0.136282</td>\n",
       "      <td>-0.021666</td>\n",
       "      <td>0.743511</td>\n",
       "      <td>-41.964694</td>\n",
       "    </tr>\n",
       "    <tr>\n",
       "      <th>11</th>\n",
       "      <td>0.995705</td>\n",
       "      <td>0.404433</td>\n",
       "      <td>-0.650904</td>\n",
       "      <td>0.147422</td>\n",
       "      <td>-0.373554</td>\n",
       "      <td>78.080486</td>\n",
       "    </tr>\n",
       "    <tr>\n",
       "      <th>12</th>\n",
       "      <td>-2.200223</td>\n",
       "      <td>0.094438</td>\n",
       "      <td>-2.430327</td>\n",
       "      <td>-0.692914</td>\n",
       "      <td>-0.668452</td>\n",
       "      <td>-93.639361</td>\n",
       "    </tr>\n",
       "    <tr>\n",
       "      <th>13</th>\n",
       "      <td>-0.300770</td>\n",
       "      <td>-0.811463</td>\n",
       "      <td>-1.937111</td>\n",
       "      <td>-0.955217</td>\n",
       "      <td>0.444939</td>\n",
       "      <td>-133.317638</td>\n",
       "    </tr>\n",
       "    <tr>\n",
       "      <th>14</th>\n",
       "      <td>0.177315</td>\n",
       "      <td>-1.464889</td>\n",
       "      <td>0.592158</td>\n",
       "      <td>-0.768679</td>\n",
       "      <td>1.161265</td>\n",
       "      <td>-159.590815</td>\n",
       "    </tr>\n",
       "    <tr>\n",
       "      <th>15</th>\n",
       "      <td>-0.083158</td>\n",
       "      <td>0.508679</td>\n",
       "      <td>-0.923358</td>\n",
       "      <td>-0.096979</td>\n",
       "      <td>-0.183199</td>\n",
       "      <td>25.327815</td>\n",
       "    </tr>\n",
       "    <tr>\n",
       "      <th>16</th>\n",
       "      <td>0.854740</td>\n",
       "      <td>-0.952329</td>\n",
       "      <td>-0.047007</td>\n",
       "      <td>-0.454386</td>\n",
       "      <td>0.635096</td>\n",
       "      <td>-59.741385</td>\n",
       "    </tr>\n",
       "    <tr>\n",
       "      <th>17</th>\n",
       "      <td>-1.044389</td>\n",
       "      <td>-0.656232</td>\n",
       "      <td>-0.630098</td>\n",
       "      <td>1.134076</td>\n",
       "      <td>-0.447874</td>\n",
       "      <td>8.007756</td>\n",
       "    </tr>\n",
       "    <tr>\n",
       "      <th>18</th>\n",
       "      <td>-0.625493</td>\n",
       "      <td>0.788249</td>\n",
       "      <td>-0.539730</td>\n",
       "      <td>0.007926</td>\n",
       "      <td>0.512638</td>\n",
       "      <td>13.124383</td>\n",
       "    </tr>\n",
       "    <tr>\n",
       "      <th>19</th>\n",
       "      <td>-0.329592</td>\n",
       "      <td>0.618311</td>\n",
       "      <td>-0.205147</td>\n",
       "      <td>0.485597</td>\n",
       "      <td>0.138680</td>\n",
       "      <td>50.729802</td>\n",
       "    </tr>\n",
       "  </tbody>\n",
       "</table>\n",
       "</div>"
      ],
      "text/plain": [
       "    feature_1  feature_2  feature_3  feature_4  feature_5      target\n",
       "0    0.293416  -0.945599  -0.421105   0.406816   0.525662  -82.154667\n",
       "1   -0.836084  -0.189228  -0.776403  -1.053831   0.597997  -48.897960\n",
       "2    0.236425   0.132836  -0.147723   0.699854  -0.187364   77.270371\n",
       "3    0.175312   0.143194  -0.581111  -0.122107  -1.292168   -2.988581\n",
       "4   -1.693011   0.542712  -2.798729  -0.686723   1.244077  -37.596722\n",
       "5   -1.055329  -0.874807   0.580753  -0.773541   1.070888 -122.405263\n",
       "6   -0.824707   0.499427   1.293281  -0.240671  -0.419136    1.413741\n",
       "7   -1.936602   0.583708  -0.521135  -0.631724  -1.030729  -13.306543\n",
       "8    0.647431  -0.265401   0.327080   0.457829  -1.757592  -25.754698\n",
       "9   -1.133029  -0.839132  -0.547809   0.551768  -0.639173  -57.077754\n",
       "10  -2.015734   0.102635  -0.136282  -0.021666   0.743511  -41.964694\n",
       "11   0.995705   0.404433  -0.650904   0.147422  -0.373554   78.080486\n",
       "12  -2.200223   0.094438  -2.430327  -0.692914  -0.668452  -93.639361\n",
       "13  -0.300770  -0.811463  -1.937111  -0.955217   0.444939 -133.317638\n",
       "14   0.177315  -1.464889   0.592158  -0.768679   1.161265 -159.590815\n",
       "15  -0.083158   0.508679  -0.923358  -0.096979  -0.183199   25.327815\n",
       "16   0.854740  -0.952329  -0.047007  -0.454386   0.635096  -59.741385\n",
       "17  -1.044389  -0.656232  -0.630098   1.134076  -0.447874    8.007756\n",
       "18  -0.625493   0.788249  -0.539730   0.007926   0.512638   13.124383\n",
       "19  -0.329592   0.618311  -0.205147   0.485597   0.138680   50.729802"
      ]
     },
     "execution_count": 29,
     "metadata": {},
     "output_type": "execute_result"
    }
   ],
   "source": [
    "train.head(20)"
   ]
  },
  {
   "cell_type": "code",
   "execution_count": 24,
   "metadata": {},
   "outputs": [
    {
     "data": {
      "image/png": "[encoded data removed]",
      "text/plain": [
       "<Figure size 576x396 with 1 Axes>"
      ]
     },
     "metadata": {},
     "output_type": "display_data"
    }
   ],
   "source": [
    "plt.style.use(\"seaborn\")\n",
    "plt.scatter(xtrain[:,1],xtrain[:,2],color='red',cmap=plt.cm.Accent)\n",
    "plt.show()"
   ]
  },
  {
   "cell_type": "markdown",
   "metadata": {},
   "source": [
    "## IMPORTING LINEAR REGRESSION FROM SKLEARN LIABRARY"
   ]
  },
  {
   "cell_type": "code",
   "execution_count": 11,
   "metadata": {},
   "outputs": [],
   "source": [
    "from sklearn.linear_model import LinearRegression  "
   ]
  },
  {
   "cell_type": "markdown",
   "metadata": {},
   "source": [
    "## APPLYING THE ALGORITHM"
   ]
  },
  {
   "cell_type": "code",
   "execution_count": 12,
   "metadata": {},
   "outputs": [],
   "source": [
    "clf=LinearRegression(normalize=True)"
   ]
  },
  {
   "cell_type": "markdown",
   "metadata": {},
   "source": [
    "## FITTING THE TRAINING DATA IN THE ALGORITHMS"
   ]
  },
  {
   "cell_type": "code",
   "execution_count": 14,
   "metadata": {
    "scrolled": true
   },
   "outputs": [
    {
     "data": {
      "text/plain": [
       "LinearRegression(copy_X=True, fit_intercept=True, n_jobs=None, normalize=True)"
      ]
     },
     "execution_count": 14,
     "metadata": {},
     "output_type": "execute_result"
    }
   ],
   "source": [
    "clf.fit(xtrain,ytrain)"
   ]
  },
  {
   "cell_type": "markdown",
   "metadata": {},
   "source": [
    "## TESTING THE DATA"
   ]
  },
  {
   "cell_type": "code",
   "execution_count": 13,
   "metadata": {},
   "outputs": [
    {
     "data": {
      "text/plain": [
       "(400, 5)"
      ]
     },
     "execution_count": 13,
     "metadata": {},
     "output_type": "execute_result"
    }
   ],
   "source": [
    "test=pd.read_csv('airTest.csv')\n",
    "test.shape"
   ]
  },
  {
   "cell_type": "code",
   "execution_count": 15,
   "metadata": {},
   "outputs": [],
   "source": [
    "ypred=clf.predict(test)\n",
    "np.savetxt(\"airpred.csv\",ypred)"
   ]
  },
  {
   "cell_type": "markdown",
   "metadata": {},
   "source": [
    "## CALCULATING THE SCORE"
   ]
  },
  {
   "cell_type": "code",
   "execution_count": 16,
   "metadata": {},
   "outputs": [
    {
     "data": {
      "text/plain": [
       "0.9660939669975616"
      ]
     },
     "execution_count": 16,
     "metadata": {},
     "output_type": "execute_result"
    }
   ],
   "source": [
    "clf.score(xtrain,ytrain)"
   ]
  }
 ],
 "metadata": {
  "kernelspec": {
   "display_name": "Python 3",
   "language": "python",
   "name": "python3"
  },
  "language_info": {
   "codemirror_mode": {
    "name": "ipython",
    "version": 3
   },
   "file_extension": ".py",
   "mimetype": "text/x-python",
   "name": "python",
   "nbconvert_exporter": "python",
   "pygments_lexer": "ipython3",
   "version": "3.7.3"
  }
 },
 "nbformat": 4,
 "nbformat_minor": 2
}
